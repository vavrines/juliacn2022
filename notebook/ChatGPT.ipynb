{
 "cells": [
  {
   "cell_type": "markdown",
   "id": "d5e81a8e",
   "metadata": {},
   "source": [
    "- write a solver for 1D advection equation in Python\n",
    "- Sure, here is a simple solver for the 1D advection equation using the finite difference method in Python:"
   ]
  },
  {
   "cell_type": "code",
   "execution_count": 1,
   "id": "ee8e648f",
   "metadata": {},
   "outputs": [],
   "source": [
    "import numpy as np\n",
    "\n",
    "def advection_solver(u0, c, dx, dt, t_max):\n",
    "    \"\"\"Solve the 1D advection equation du/dt + c du/dx = 0 on the interval [0, 1]\n",
    "    \n",
    "    Args:\n",
    "        u0: Initial condition (numpy array)\n",
    "        c: Advection speed (float)\n",
    "        dx: Spatial grid size (float)\n",
    "        dt: Time step size (float)\n",
    "        t_max: Maximum time to solve the equation for (float)\n",
    "        \n",
    "    Returns:\n",
    "        u: Solution to the advection equation (numpy array)\n",
    "    \"\"\"\n",
    "    # Compute the number of grid points and time steps\n",
    "    nx = len(u0)\n",
    "    nt = int(t_max / dt)\n",
    "    \n",
    "    # Create the solution array\n",
    "    u = np.zeros((nt, nx))\n",
    "    u[0, :] = u0\n",
    "    \n",
    "    # Solve the equation at each time step\n",
    "    for t in range(1, nt):\n",
    "        for i in range(1, nx):\n",
    "            # Use the finite difference method to compute the solution\n",
    "            u[t, i] = u[t-1, i] - c * dt / dx * (u[t-1, i] - u[t-1, i-1])\n",
    "            \n",
    "    return u"
   ]
  },
  {
   "cell_type": "markdown",
   "id": "7f828743",
   "metadata": {},
   "source": [
    "To use this solver, you just need to provide the initial condition u0, the advection speed c, the spatial grid size dx, the time step size dt, and the maximum time to solve the equation for t_max. The function will return the solution u as a NumPy array.\n",
    "\n",
    "Here is an example of how you could use this solver to solve the 1D advection equation with an initial condition of a Gaussian pulse:"
   ]
  },
  {
   "cell_type": "code",
   "execution_count": 2,
   "id": "828d7e4f",
   "metadata": {},
   "outputs": [],
   "source": [
    "import numpy as np\n",
    "\n",
    "# Set the parameters\n",
    "u0 = np.exp(-100 * (np.linspace(0, 1, 101) - 0.5) ** 2)  # Initial condition\n",
    "c = 1.0  # Advection speed\n",
    "dx = 0.01  # Spatial grid size\n",
    "dt = 0.01  # Time step size\n",
    "t_max = 0.1  # Maximum time to solve the equation for\n",
    "\n",
    "# Solve the advection equation\n",
    "u = advection_solver(u0, c, dx, dt, t_max)"
   ]
  },
  {
   "cell_type": "markdown",
   "id": "bb3e16e3",
   "metadata": {},
   "source": [
    "This code will solve the 1D advection equation for a Gaussian pulse and then plot the solution at the final time. You should see a shifted version of the initial Gaussian pulse in the plot."
   ]
  },
  {
   "cell_type": "code",
   "execution_count": 15,
   "id": "ca72ca69",
   "metadata": {},
   "outputs": [
    {
     "data": {
      "image/png": "[encoded data removed]",
      "text/plain": [
       "<Figure size 432x288 with 1 Axes>"
      ]
     },
     "metadata": {
      "needs_background": "light"
     },
     "output_type": "display_data"
    }
   ],
   "source": [
    "from matplotlib import pyplot as plt\n",
    "\n",
    "# Plot the solution\n",
    "plt.plot(u[-1, :])\n",
    "plt.plot(u0)\n",
    "#plt.savefig(\"chat.jpg\")"
   ]
  },
  {
   "cell_type": "code",
   "execution_count": null,
   "id": "edcd5564",
   "metadata": {},
   "outputs": [],
   "source": []
  }
 ],
 "metadata": {
  "kernelspec": {
   "display_name": "Python 3",
   "language": "python",
   "name": "python3"
  },
  "language_info": {
   "codemirror_mode": {
    "name": "ipython",
    "version": 3
   },
   "file_extension": ".py",
   "mimetype": "text/x-python",
   "name": "python",
   "nbconvert_exporter": "python",
   "pygments_lexer": "ipython3",
   "version": "3.8.10"
  }
 },
 "nbformat": 4,
 "nbformat_minor": 5
}
